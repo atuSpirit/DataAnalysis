{
 "cells": [
  {
   "cell_type": "code",
   "execution_count": 1,
   "metadata": {
    "collapsed": true
   },
   "outputs": [],
   "source": [
    "import pandas as pd\n",
    "import numpy as np\n",
    "import matplotlib.pyplot as plt\n",
    "import glob\n",
    "from sklearn.linear_model import LinearRegression\n",
    "%matplotlib inline"
   ]
  },
  {
   "cell_type": "code",
   "execution_count": 2,
   "metadata": {
    "collapsed": true
   },
   "outputs": [],
   "source": [
    "R_SQUARE_THRES = 70\n",
    "KM_FIT_INTERCEPT = True\n",
    "LM_FIT_INTERCEPT = True\n",
    "TEST_FRAC = 1"
   ]
  },
  {
   "cell_type": "code",
   "execution_count": 3,
   "metadata": {
    "collapsed": true
   },
   "outputs": [],
   "source": [
    "def find_peptides_exists_in_at_least_k_rep(df_list, k=2):\n",
    "    if len(df_list) < k:\n",
    "        return set()\n",
    "    peptide_appear_map = {}\n",
    "    for df in df_list:\n",
    "        peptide_list = list(df['Peptide'])\n",
    "        for i, peptide in enumerate(peptide_list):\n",
    "            if peptide not in peptide_appear_map:\n",
    "                peptide_appear_map[peptide] = [float(df['Intensity'].iloc[i])]\n",
    "            else:\n",
    "                peptide_appear_map[peptide].append(float(df['Intensity'].iloc[i]))\n",
    "    filtered_peptides = [key for key,v in peptide_appear_map.items() if len(v) >= k]\n",
    "    peptide_appear_map = {key:v for key, v in peptide_appear_map.items() if key in filtered_peptides}\n",
    "    return set(filtered_peptides), peptide_appear_map"
   ]
  },
  {
   "cell_type": "code",
   "execution_count": 4,
   "metadata": {
    "collapsed": true
   },
   "outputs": [],
   "source": [
    "def find_stable_peptide_that_exists_in_all_contration(df_lists, percentile_thres=80, kk=2):\n",
    "    \"\"\"\n",
    "    filter by std of intensity under same C. thre\n",
    "    df_list: 2-level nested list of df \n",
    "    return: peptide_set, peptide_intensity_median map\n",
    "    \"\"\"\n",
    "    final_peptide_set = None\n",
    "    peptide_intensities_map_list = []\n",
    "    for df_list in df_lists:\n",
    "        p_set, peptide_intensities_map = find_peptides_exists_in_at_least_k_rep(df_list, kk)\n",
    "        peptide_intensities_map_list.append(peptide_intensities_map)\n",
    "        if final_peptide_set is None:\n",
    "            final_peptide_set = p_set\n",
    "        else:\n",
    "            final_peptide_set = final_peptide_set.intersection(p_set)\n",
    "    peptide_avg_intensity_std = {}\n",
    "    for peptide in final_peptide_set:\n",
    "        stds = [np.std(d[peptide]) for d in peptide_intensities_map_list]\n",
    "        peptide_avg_intensity_std[peptide] = np.mean(stds)\n",
    "    std_threshold = np.percentile(list(peptide_avg_intensity_std.values()), percentile_thres)\n",
    "    final_peptide_set = [k for k,v in peptide_avg_intensity_std.items() if v < std_threshold]\n",
    "    \n",
    "    peptide_intensity_median_map = {}\n",
    "    for peptide in final_peptide_set:\n",
    "        peptide_intensity_median_map[peptide] = np.zeros(len(peptide_intensities_map_list))\n",
    "        for i, p_i_map in enumerate(peptide_intensities_map_list):\n",
    "            peptide_intensity_median_map[peptide][i] = np.median(p_i_map[peptide])\n",
    "    \n",
    "    return set(final_peptide_set), peptide_intensity_median_map"
   ]
  },
  {
   "cell_type": "code",
   "execution_count": 5,
   "metadata": {},
   "outputs": [
    {
     "name": "stdout",
     "output_type": "stream",
     "text": [
      "[['Giai2016/5_rep1.csv', 'Giai2016/5_rep2.csv', 'Giai2016/5_rep3.csv'], ['Giai2016/10_rep1.csv', 'Giai2016/10_rep2.csv', 'Giai2016/10_rep3.csv'], ['Giai2016/25_rep1.csv', 'Giai2016/25_rep2.csv', 'Giai2016/25_rep3.csv']]\n",
      "114\n"
     ]
    }
   ],
   "source": [
    "file_names = glob.glob('Giai2016/*.csv')\n",
    "file_names.sort(key=lambda x: (float(x.split('/')[-1].split('_')[0]), x.split('/')[-1].split('_')[1]))\n",
    "file_names = file_names[:3 * 3]\n",
    "file_names = [file_names[:3], file_names[3:6], file_names[6:]]\n",
    "print(file_names)\n",
    "df_lists = []\n",
    "for file_name_list in file_names:\n",
    "    df_lists.append([])\n",
    "    for file_name in file_name_list:\n",
    "        df = pd.read_csv(file_name)\n",
    "        df.columns = ['Unnamed', 'ProteinAccession', 'Peptide', 'Intensity']\n",
    "        df_lists[-1].append(df)\n",
    "peptide_set, peptide_intensity_median_map = find_stable_peptide_that_exists_in_all_contration(df_lists, kk=3)\n",
    "print(len(peptide_set))"
   ]
  },
  {
   "cell_type": "code",
   "execution_count": 6,
   "metadata": {},
   "outputs": [
    {
     "data": {
      "text/plain": [
       "{'A(+42.01)DSRDPASDQM(+15.99)QHWK.E',\n",
       " 'A(+42.01)SPDWGYDDKNGPEQWSK.L',\n",
       " 'K.ADGLAVIGVLM(+15.99)K.V',\n",
       " 'K.ADRDQYELLC(+57.02)LDNTR.K',\n",
       " 'K.AGALNSNDAFVLK.T',\n",
       " 'K.ALPGQLKPFETLLSQNQGGK.T',\n",
       " 'K.ANRPFLVFIR.E',\n",
       " 'K.ASAELIEEEVAK.L',\n",
       " 'K.ATAVM(+15.99)PDGQFK.D',\n",
       " 'K.AVMDDFAAFVEK.C',\n",
       " 'K.AVQQPDGLAVLGIFLK.V',\n",
       " 'K.C(+57.02)AFSSQEPYFSYSGAFK.C',\n",
       " 'K.C(+57.02)DEWSVNSVGK.I',\n",
       " 'K.C(+57.02)STSSLLEAC(+57.02)TFR.R',\n",
       " 'K.DLLFRDDTVC(+57.02)LAK.L',\n",
       " 'K.DNWSPALTISK.V',\n",
       " 'K.DQGGELLSLR.Y',\n",
       " 'K.DVTVLQNTDGNNNEAWAK.D',\n",
       " 'K.EDAIWNLLR.Q',\n",
       " 'K.EDLRPSAPQQEGEASK.E',\n",
       " 'K.EDPQTFYYAVAVVK.K',\n",
       " 'K.EGYYGYTGAFR.C',\n",
       " 'K.ELFDPIISDR.H',\n",
       " 'K.FC(+57.02)LFQSETK.N',\n",
       " 'K.FITIFGTR.S',\n",
       " 'K.FLEEHPGGEEVLR.E',\n",
       " 'K.FQDGDLTLYQSNTILR.H',\n",
       " 'K.GDGPVQGIINFEQK.E',\n",
       " 'K.GGSFQLNELQGLK.S',\n",
       " 'K.GIIWGEDTLM(+15.99)EYLENPK.K',\n",
       " 'K.GISAFPESDNLFK.W',\n",
       " 'K.GLGTDEESILTLLTSR.S',\n",
       " 'K.GTPWEGGLFK.L',\n",
       " 'K.HVVPNEVVVQR.L',\n",
       " 'K.IEC(+57.02)VSAETTEDC(+57.02)IAK.I',\n",
       " 'K.LEQWLC(+57.02)EKL',\n",
       " 'K.LNVITVGPR.G',\n",
       " 'K.LSLEFPSGYPYNAPTVK.F',\n",
       " 'K.LSVEALNSLTGEFK.G',\n",
       " 'K.LTNYSVTDLNVQR.K',\n",
       " 'K.LVAASQAALGL',\n",
       " 'K.LVNANGEAVYC(+57.02)K.F',\n",
       " 'K.LVNEVTEFAK.T',\n",
       " 'K.LVSELWDAGIK.A',\n",
       " 'K.M(+15.99)YLGYEYVTAIR.N',\n",
       " 'K.N(+.98)GDILTLK.T',\n",
       " 'K.NDNDNIFLSPLSISTAFAM(+15.99)TK.L',\n",
       " 'K.NLLFNDNTEC(+57.02)LAR.L',\n",
       " 'K.QGGLGPM(+15.99)NIPLVSDPK.R',\n",
       " 'K.QNC(+57.02)ELFEQLGEYK.F',\n",
       " 'K.QTQVSVLPEGGETPLFK.Q',\n",
       " 'K.RIEAIPQIDK.Y',\n",
       " 'K.SADFTNFDPR.G',\n",
       " 'K.SASDLTWDNLK.G',\n",
       " 'K.SAVTALWGK.V',\n",
       " 'K.SQQSSDPDPNC(+57.02)VDRPVEGYLAVAVVR.R',\n",
       " 'K.TAFQEALDAAGDK.L',\n",
       " 'K.TGQAPGYSYTAANK.N',\n",
       " 'K.TPGAVNAC(+57.02)HLSC(+57.02)SALLQDNIADAVAC(+57.02)AK.R',\n",
       " 'K.TPSAAYLWVGTGASEAEK.T',\n",
       " 'K.TVEEAENIAVTSGVVR.K',\n",
       " 'K.VEADIPGHGQEVLIR.L',\n",
       " 'K.VFDEFKPLVEEPQNLIK.Q',\n",
       " 'K.VLAPQISFAPEIASEEER.K',\n",
       " 'K.VLAPQISFAPEIASEEERK.G',\n",
       " 'K.VLDALQAIK.T',\n",
       " 'K.VLTLELYK.K',\n",
       " 'K.VNLLSAIK.S',\n",
       " 'K.VNVDEVGGEALGR.L',\n",
       " 'K.VTGLDFIPGLHPILTLSK.M',\n",
       " 'K.VVDVLDSIK.T',\n",
       " 'K.WVGTIHGAAGTVYEDLR.Y',\n",
       " 'K.YAC(+57.02)NC(+57.02)VVGYIGER.C',\n",
       " 'K.YIC(+57.02)ENQDSISSK.L',\n",
       " 'K.YLGPQYVAGITNLK.K',\n",
       " 'R.ADLIAYLK.K',\n",
       " 'R.ANALLAN(+.98)GVELR.D',\n",
       " 'R.C(+57.02)LAENAGDVAFVK.D',\n",
       " 'R.DLLDDLK.S',\n",
       " 'R.DPILFPSFIHSQK.R',\n",
       " 'R.DVFHTTVNFINQNLR.T',\n",
       " 'R.ELDALGHELPVLAPQWEGYDELQTDGNR.S',\n",
       " 'R.EQAGGDATENFEDVGHSTDAR.E',\n",
       " 'R.ESTVFEDLSDEAERDEYELLC(+57.02)PDNTR.K',\n",
       " 'R.ETPEGAEAKPWYEPIYLGGVFQLEK.G',\n",
       " 'R.EVPLNTIIFM(+15.99)GR.V',\n",
       " 'R.FATTFYQHLADSK.N',\n",
       " 'R.FDEFFSEGC(+57.02)APGSK.K',\n",
       " 'R.FFESFGDLSTPDAVM(+15.99)GNPK.V',\n",
       " 'R.GIVEEC(+57.02)C(+57.02)FR.S',\n",
       " 'R.GLFIIDDK.G',\n",
       " 'R.GTVTDFPGFDER.A',\n",
       " 'R.GYSIFSYATK.R',\n",
       " 'R.IDSGLYLGSGYFTAIQNLR.K',\n",
       " 'R.IEADSESQEDIIR.N',\n",
       " 'R.IFSIVEQR.L',\n",
       " 'R.LLLEYLEEK.Y',\n",
       " 'R.LSQEDPDYGIR.D',\n",
       " 'R.NIC(+57.02)DISC(+57.02)DKFLDDDITDDIM(+15.99)C(+57.02)AK.K',\n",
       " 'R.NPVNYFAEVEQIAFDPSNM(+15.99)PPGIEASPDK.M',\n",
       " 'R.NVIQISNDLENLR.D',\n",
       " 'R.QGVEDAFYTLVR.E',\n",
       " 'R.QITVNDLPVGR.S',\n",
       " 'R.SAGWNIPIGLLYC(+57.02)DLPEPR.K',\n",
       " 'R.SC(+57.02)DLALLETYC(+57.02)ATPAK.S',\n",
       " 'R.SC(+57.02)HLAM(+15.99)APNHAVVSR.M',\n",
       " 'R.SEIDLFNIR.K',\n",
       " 'R.SLASDITDEQK.K',\n",
       " 'R.SNLC(+57.02)ALC(+57.02)IGDEQGENK.C',\n",
       " 'R.STDYGIFQINSR.Y',\n",
       " 'R.SVQWC(+57.02)AVSQPEATK.C',\n",
       " 'R.TGEGFLC(+57.02)VFAINNTK.S',\n",
       " 'R.TTETQVLVASAQK.K',\n",
       " 'R.VAEGTQVLELPFK.G'}"
      ]
     },
     "execution_count": 6,
     "metadata": {},
     "output_type": "execute_result"
    }
   ],
   "source": [
    "peptide_set"
   ]
  },
  {
   "cell_type": "code",
   "execution_count": 7,
   "metadata": {},
   "outputs": [
    {
     "data": {
      "text/html": [
       "<div>\n",
       "<style>\n",
       "    .dataframe thead tr:only-child th {\n",
       "        text-align: right;\n",
       "    }\n",
       "\n",
       "    .dataframe thead th {\n",
       "        text-align: left;\n",
       "    }\n",
       "\n",
       "    .dataframe tbody tr th {\n",
       "        vertical-align: top;\n",
       "    }\n",
       "</style>\n",
       "<table border=\"1\" class=\"dataframe\">\n",
       "  <thead>\n",
       "    <tr style=\"text-align: right;\">\n",
       "      <th></th>\n",
       "      <th>Unnamed</th>\n",
       "      <th>ProteinAccession</th>\n",
       "      <th>Peptide</th>\n",
       "      <th>Intensity</th>\n",
       "    </tr>\n",
       "  </thead>\n",
       "  <tbody>\n",
       "    <tr>\n",
       "      <th>100</th>\n",
       "      <td>154</td>\n",
       "      <td>P04040ups|CATA_HUMAN_UPS</td>\n",
       "      <td>A(+42.01)DSRDPASDQM(+15.99)QHWK.E</td>\n",
       "      <td>13400000.0</td>\n",
       "    </tr>\n",
       "  </tbody>\n",
       "</table>\n",
       "</div>"
      ],
      "text/plain": [
       "     Unnamed          ProteinAccession                            Peptide  \\\n",
       "100      154  P04040ups|CATA_HUMAN_UPS  A(+42.01)DSRDPASDQM(+15.99)QHWK.E   \n",
       "\n",
       "      Intensity  \n",
       "100  13400000.0  "
      ]
     },
     "execution_count": 7,
     "metadata": {},
     "output_type": "execute_result"
    }
   ],
   "source": [
    "df_lists[1][0][df_lists[1][0]['Peptide'] =='A(+42.01)DSRDPASDQM(+15.99)QHWK.E']"
   ]
  },
  {
   "cell_type": "markdown",
   "metadata": {},
   "source": [
    "## filter by model log(intensity) ~ m * log(C) + k 's R^2\n",
    "## get anchor peptides' parameters (k, m)"
   ]
  },
  {
   "cell_type": "code",
   "execution_count": 8,
   "metadata": {
    "scrolled": true
   },
   "outputs": [
    {
     "name": "stdout",
     "output_type": "stream",
     "text": [
      "threshold r square 0.9951936442461812\n",
      "34\n"
     ]
    }
   ],
   "source": [
    "initial_concentraion = [5.0, 10.0, 25.0]\n",
    "peptide_list = list(peptide_set)\n",
    "r_square_list = []\n",
    "anchor_peptide_params_dict = {}\n",
    "for peptide in peptide_list:\n",
    "    intensity_list = []\n",
    "    ic_list = []\n",
    "    for i, df_list in enumerate(df_lists):\n",
    "        concentration = initial_concentraion[i]\n",
    "        for df in df_list:\n",
    "            temp = df[df[\"Peptide\"]==peptide]\n",
    "            if len(temp) == 1:\n",
    "                intensity_list.append(temp[\"Intensity\"].iloc[0])\n",
    "                ic_list.append(concentration)\n",
    "    x = np.log(ic_list).reshape(-1, 1)\n",
    "    y = np.log(intensity_list).reshape(-1, 1)\n",
    "    lm = LinearRegression()\n",
    "    lm.fit(x, y)\n",
    "    m = float(lm.coef_.flatten())\n",
    "    k = float(lm.intercept_.flatten())\n",
    "    anchor_peptide_params_dict[peptide] = (k, m)\n",
    "    r_square_list.append(lm.score(x, y))\n",
    "# set threshold to be upper ?? percentile\n",
    "thres = np.percentile(r_square_list, R_SQUARE_THRES)\n",
    "print(f\"threshold r square {thres}\")\n",
    "\n",
    "anchor_peptide_list = [peptide for i, peptide in enumerate(peptide_list) if r_square_list[i] > thres]\n",
    "anchor_peptide_set = set(anchor_peptide_list)\n",
    "anchor_peptide_params_dict = {k:v for k,v in anchor_peptide_params_dict.items() if k in anchor_peptide_list}\n",
    "print(len(anchor_peptide_set))"
   ]
  },
  {
   "cell_type": "markdown",
   "metadata": {},
   "source": [
    "## get test peptides. (Those exists in all three ic and not in anchor peptides.)"
   ]
  },
  {
   "cell_type": "code",
   "execution_count": 9,
   "metadata": {
    "scrolled": true
   },
   "outputs": [
    {
     "name": "stdout",
     "output_type": "stream",
     "text": [
      "239\n"
     ]
    }
   ],
   "source": [
    "test_peptide_set = None\n",
    "for i in range(3):\n",
    "    temp_set, _ = find_peptides_exists_in_at_least_k_rep(df_lists[i], k=1)\n",
    "    if test_peptide_set is None:\n",
    "        test_peptide_set = temp_set\n",
    "    else:\n",
    "        test_peptide_set = test_peptide_set.intersection(temp_set)\n",
    "print(len(test_peptide_set))\n",
    "test_peptide_list = list(test_peptide_set)"
   ]
  },
  {
   "cell_type": "code",
   "execution_count": 10,
   "metadata": {},
   "outputs": [
    {
     "data": {
      "text/plain": [
       "array([ 5690000., 11500000., 37400000.])"
      ]
     },
     "execution_count": 10,
     "metadata": {},
     "output_type": "execute_result"
    }
   ],
   "source": [
    "peptide_intensity_median_map[peptide]"
   ]
  },
  {
   "cell_type": "markdown",
   "metadata": {},
   "source": [
    "## build (k, m) ~ (log(ic_5), log(ic_10)) model"
   ]
  },
  {
   "cell_type": "code",
   "execution_count": 11,
   "metadata": {},
   "outputs": [
    {
     "name": "stdout",
     "output_type": "stream",
     "text": [
      "0.995587452673094\n"
     ]
    }
   ],
   "source": [
    "anchor_km = []\n",
    "anchor_ics = []\n",
    "for peptide in anchor_peptide_list:\n",
    "    temp_ics = np.delete(peptide_intensity_median_map[peptide], TEST_FRAC)\n",
    "    anchor_ics.append(temp_ics)\n",
    "    anchor_km.append(np.asarray(anchor_peptide_params_dict[peptide]))\n",
    "km_lm = LinearRegression(fit_intercept=KM_FIT_INTERCEPT)\n",
    "# fit k,m ~ log(intensity) model\n",
    "km_lm.fit(np.log(anchor_ics), anchor_km)\n",
    "print(km_lm.score(np.log(anchor_ics), anchor_km))\n",
    "\n",
    "\n",
    "train_df_lists = []\n",
    "for i, df_list in enumerate(df_lists):\n",
    "    if i != TEST_FRAC:\n",
    "        train_df_lists.append(df_list)\n",
    "\n",
    "# then fit (k, m) for testing peptides\n",
    "testing_peptides_ics = []\n",
    "for peptide in test_peptide_list:\n",
    "    ics = np.zeros(len(train_df_lists))\n",
    "    for i, df_list in enumerate(train_df_lists):\n",
    "        intensities = []\n",
    "        for df in df_list:\n",
    "            temp = df[df[\"Peptide\"] == peptide]\n",
    "            if len(temp) == 1:\n",
    "                intensities.append(temp[\"Intensity\"].iloc[0])\n",
    "        ics[i] = np.median(intensities)\n",
    "    testing_peptides_ics.append(ics)\n",
    "testing_peptides_ics = np.asarray(testing_peptides_ics)\n",
    "\n",
    "testing_peptides_km = km_lm.predict(np.log(testing_peptides_ics))\n",
    "testing_peptides_km_map = dict(zip(test_peptide_list, testing_peptides_km))"
   ]
  },
  {
   "cell_type": "code",
   "execution_count": 12,
   "metadata": {},
   "outputs": [
    {
     "data": {
      "text/plain": [
       "{'A(+42.01)DSRDPASDQM(+15.99)QHWK.E': array([13.98750969,  1.13826346]),\n",
       " 'A(+42.01)SPDWGYDDKNGPEQWSK.L': array([11.65574006,  1.73050866]),\n",
       " 'C.FSALEVDETYVPK.E': array([9.38541644, 2.04450919]),\n",
       " 'HGSPVDIC(+57.02)TAKPR.D': array([10.91190134,  0.95110459]),\n",
       " 'K.AAFTEC(+57.02)C(+57.02)QAADK.A': array([13.18044077,  1.15635153]),\n",
       " 'K.ADGLAVIGVLM(+15.99)K.V': array([11.23088483,  1.83045329]),\n",
       " 'K.ADRDQYELLC(+57.02)LDNTR.K': array([13.05631541,  1.20589461]),\n",
       " 'K.ADVLTTGAGNPVGDK.L': array([15.19142526,  0.95867768]),\n",
       " 'K.AFLASPEYVNLPIN(+.98)GN(+.98)GKQ': array([8.45094353, 2.56129818]),\n",
       " 'K.AGALNSNDAFVLK.T': array([13.65748284,  1.35345218]),\n",
       " 'K.ALLLLC(+57.02)GEDD': array([11.22953126,  1.44480348]),\n",
       " 'K.ALPGQLKPFETLLSQNQGGK.T': array([13.07978201,  1.36035689]),\n",
       " 'K.ANRPFLVFIR.E': array([13.08492398,  1.06206295]),\n",
       " 'K.ASAELIEEEVAK.L': array([14.27284651,  1.17148366]),\n",
       " 'K.ASYLDC(+57.02)IR.A': array([12.96918798,  1.43740459]),\n",
       " 'K.ATAVM(+15.99)PDGQFK.D': array([10.92780028,  1.691786  ]),\n",
       " 'K.ATEDEGSEQKIPEATNR.R': array([13.06792534,  1.16803356]),\n",
       " 'K.AVM(+15.99)DDFAAFVEK.C': array([7.64271753, 2.72566031]),\n",
       " 'K.AVMDDFAAFVEK.C': array([12.88912123,  1.09218403]),\n",
       " 'K.AVQQPDGLAVLGIFLK.V': array([13.47576365,  1.00290326]),\n",
       " 'K.C(+57.02)AFSSQEPYFSYSGAFK.C': array([13.33580628,  1.12447779]),\n",
       " 'K.C(+57.02)DEWSVNSVGK.I': array([12.26183925,  1.47848278]),\n",
       " 'K.C(+57.02)ELSQLLK.D': array([13.92177817,  1.18472332]),\n",
       " 'K.C(+57.02)ETVAAARPVT': array([11.14781131,  1.52424891]),\n",
       " 'K.C(+57.02)STSPLLEAC(+57.02)EFLR.K': array([12.24869995,  1.5076346 ]),\n",
       " 'K.C(+57.02)STSSLLEAC(+57.02)TFR.R': array([13.19418403,  1.33198356]),\n",
       " 'K.DC(+57.02)HLAQVPSHTVVAR.S': array([8.03177743, 2.53379482]),\n",
       " 'K.DGAGDVAFVK.H': array([13.43852734,  1.36439012]),\n",
       " 'K.DLLFRDDTVC(+57.02)LAK.L': array([14.2809983 ,  1.06889646]),\n",
       " 'K.DNWSPALTISK.V': array([11.63110996,  1.51964005]),\n",
       " 'K.DQGGELLSLR.Y': array([14.26268663,  1.24915455]),\n",
       " 'K.DQGGYTM(+15.99)HQDQEGDTDAGLK.E': array([10.77930541,  1.48193485]),\n",
       " 'K.DVTVLQNTDGNNNEAWAK.D': array([13.33523032,  1.2229218 ]),\n",
       " 'K.DYELLC(+57.02)LDGTR.K': array([12.52073197,  1.43883154]),\n",
       " 'K.EDAIWNLLR.Q': array([14.6496231 ,  1.06376851]),\n",
       " 'K.EDLIWELLNQAQEHFGK.D': array([10.88199099,  1.23187492]),\n",
       " 'K.EDLRPSAPQQEGEASK.E': array([13.21641879,  1.23143983]),\n",
       " 'K.EDLRPSAPQQEGEASKEK.E': array([11.75206584,  1.10302461]),\n",
       " 'K.EDLRPSAPQQEGEASKEKEEVAEEAQSGGD': array([12.99937287,  1.64209264]),\n",
       " 'K.EDPQTFYYAVAVVK.K': array([13.56654981,  1.13213556]),\n",
       " 'K.EFTPPVQAAYQK.V': array([12.54906129,  1.48305301]),\n",
       " 'K.EGHLSPDIVAEQK.K': array([12.34078125,  1.39379747]),\n",
       " 'K.EGYYGYTGAFR.C': array([14.09501675,  1.17252026]),\n",
       " 'K.EIEIDIEPTDK.V': array([14.50785447,  1.10074983]),\n",
       " 'K.ELADITLDPPPNC(+57.02)SAGPK.G': array([12.06903667,  1.5333304 ]),\n",
       " 'K.ELFDPIISDR.H': array([13.58487489,  1.22072242]),\n",
       " 'K.ENVVQSVTSVAEK.T': array([15.97371416,  0.80038996]),\n",
       " 'K.EQANAVSEAVVSSVNTVATK.T': array([14.31888035,  1.28293022]),\n",
       " 'K.EQLQDM(+15.99)GLVDLFSPEK.S': array([11.90897286,  1.83761989]),\n",
       " 'K.EQLQDMGLVDLFSPEK.S': array([11.69472815,  1.41046253]),\n",
       " 'K.FC(+57.02)LFQSETK.N': array([13.85235365,  1.25937657]),\n",
       " 'K.FDEYFSQSC(+57.02)APGSDPR.S': array([14.02387348,  1.26021762]),\n",
       " 'K.FITIFGTR.S': array([14.58737428,  1.13020448]),\n",
       " 'K.FLEEHPGGEEVLR.E': array([13.99214034,  1.19908324]),\n",
       " 'K.FQDGDLTLYQSNTILR.H': array([12.44606764,  1.3534702 ]),\n",
       " 'K.GAEPSGGAARGPVGK.R': array([14.08751634,  0.0308237 ]),\n",
       " 'K.GDGPVQGIINFEQK.E': array([14.07608686,  1.22394474]),\n",
       " 'K.GDNIYEWR.S': array([11.44889519,  1.66919786]),\n",
       " 'K.GEADAM(+15.99)SLDGGYVYTAGK.C': array([10.72785634,  1.77004626]),\n",
       " 'K.GGDDLDPNYVLSSR.V': array([13.71690861,  1.19960015]),\n",
       " 'K.GGSFQLNELQGLK.S': array([12.99657618,  1.26135525]),\n",
       " 'K.GIIWGEDTLM(+15.99)EYLENPK.K': array([12.41255674,  1.45561114]),\n",
       " 'K.GISAFPESDNLFK.W': array([14.69494288,  1.08577838]),\n",
       " 'K.GLAPEVADR.I': array([13.50637404,  1.22951078]),\n",
       " 'K.GLGTDEESILTLLTSR.S': array([14.33926559,  0.92259718]),\n",
       " 'K.GQSIDDM(+15.99)IPAQK': array([13.44893548,  1.15924798]),\n",
       " 'K.GTPWEGGLFK.L': array([12.80652197,  1.30812365]),\n",
       " 'K.HDTSLKPISVSYNPATAK.E': array([12.82422147,  1.64036156]),\n",
       " 'K.HGEVC(+57.02)PAGWKPGSDTIKPDVQK.S': array([12.35438418,  1.60654258]),\n",
       " 'K.HQTVPQNTGGKNPDPWAK.N': array([11.09180152,  1.5893696 ]),\n",
       " 'K.HSTIFENLANK.A': array([17.29231212,  0.18979205]),\n",
       " 'K.HTGPGILSM(+15.99)ANAGPNTN(+.98)GSQFFIC(+57.02)TAK.T': array([10.15899736,  1.98277738]),\n",
       " 'K.HTGPGILSM(+15.99)ANAGPNTNGSQ(+.98)FFIC(+57.02)TAK.T': array([9.31529017, 2.24271986]),\n",
       " 'K.HVVPNEVVVQR.L': array([13.87760631,  1.09360227]),\n",
       " 'K.IEC(+57.02)VSAETTEDC(+57.02)IAK.I': array([13.68861838,  1.20980635]),\n",
       " 'K.IGSLDNITHVPGGGNK.K': array([12.60081497,  1.53078061]),\n",
       " 'K.ITIADC(+57.02)GQLE': array([13.05017595,  1.25648952]),\n",
       " 'K.LADFALLC(+57.02)LDGK.R': array([15.22782494,  0.85605266]),\n",
       " 'K.LALLSVTTGGTAEM(+15.99)YTK.T': array([7.76665782, 2.57889004]),\n",
       " 'K.LC(+57.02)M(+15.99)GSGLNLC(+57.02)EPNNK.E': array([9.93385581, 1.98581251]),\n",
       " 'K.LDLSNVQSK.C': array([13.92608264,  1.12962456]),\n",
       " 'K.LEATINELV': array([13.79298702,  1.08844939]),\n",
       " 'K.LEQWLC(+57.02)EK.L': array([11.20176325,  1.66101816]),\n",
       " 'K.LEQWLC(+57.02)EKL': array([14.33235812,  1.08742689]),\n",
       " 'K.LGVEFDETTADDR.K': array([17.65846065, -0.18130393]),\n",
       " 'K.LKDPANFQYPAESVLAYK.E': array([12.35659689,  1.7774421 ]),\n",
       " 'K.LLFEYLTLFGIDDK.I': array([14.35268381,  0.03151029]),\n",
       " 'K.LNFN(+.98)GEGEPEELM(+15.99)VDNWRPAQPLK.N': array([11.41456254,  1.78875157]),\n",
       " 'K.LNFNGEGEPEELM(+15.99)VDNWRPAQPLK.N': array([14.47714052,  0.95707939]),\n",
       " 'K.LNPPDESGPGC(+57.02)M(+15.99)SC(+57.02)K.C': array([7.86280678, 2.6288324 ]),\n",
       " 'K.LNVITVGPR.G': array([14.45048275,  1.23297164]),\n",
       " 'K.LRPVAAEVYGTER.Q': array([9.41993697, 2.50144898]),\n",
       " 'K.LSLEFPSGYPYNAPTVK.F': array([14.51303109,  1.19418679]),\n",
       " 'K.LSVEALNSLTGEFK.G': array([13.39839165,  1.0872787 ]),\n",
       " 'K.LTNYSVTDLNVQR.K': array([13.68387499,  1.20482526]),\n",
       " 'K.LVAASQAALGL': array([14.18448153,  1.084961  ]),\n",
       " 'K.LVNANGEAVYC(+57.02)K.F': array([13.21060394,  1.15527622]),\n",
       " 'K.LVNEVTEFAK.T': array([14.93918629,  1.14998635]),\n",
       " 'K.LVSELWDAGIK.A': array([14.20443185,  1.18409616]),\n",
       " 'K.LYPIAN(+.98)GNNQSPVDIK.T': array([11.17197371,  2.31963158]),\n",
       " 'K.LYPIANGNNQSPVDIK.T': array([10.281934  ,  1.90849635]),\n",
       " 'K.M(+15.99)YLGYEYVTAIR.N': array([13.19375826,  1.18286034]),\n",
       " 'K.MYLGYEYVTAIR.N': array([10.3776117 ,  1.43310271]),\n",
       " 'K.N(+.98)GDILTLK.T': array([13.66566559,  1.19791024]),\n",
       " 'K.NDNDNIFLSPLSISTAFAM(+15.99)TK.L': array([13.43571539,  1.04620408]),\n",
       " 'K.NDNDNIFLSPLSISTAFAMTK.L': array([10.8339746,  1.1443652]),\n",
       " 'K.NFATSLYSM(+15.99)IK.G': array([12.25937357,  1.64637943]),\n",
       " 'K.NFATSLYSMIK.G': array([9.89659365, 1.63211647]),\n",
       " 'K.NLLFNDNTEC(+57.02)LAR.L': array([14.84663457,  1.12499403]),\n",
       " 'K.NLSVEDAAR.L': array([13.10099042,  1.18930906]),\n",
       " 'K.NVAVDELSR.Q': array([14.89486583,  0.99998431]),\n",
       " 'K.QGGLGPM(+15.99)NIPLVSDPK.R': array([8.10214681, 2.90581448]),\n",
       " 'K.QNC(+57.02)ELFEQLGEYK.F': array([14.04342153,  1.20866786]),\n",
       " 'K.QTALVELVK.H': array([13.8964318 ,  1.15021299]),\n",
       " 'K.QTQ(+.98)VSVLPEGGETPLFK.Q': array([13.13736086,  0.61776294]),\n",
       " 'K.QTQVSVLPEGGETPLFK.Q': array([14.34077837,  1.20073158]),\n",
       " 'K.QVYEEEYGSSLEDDVVGDTSGYYQR.M': array([11.49066762,  1.70651945]),\n",
       " 'K.RDSPIQC(+57.02)IQAIAENR.A': array([11.67983115,  1.84601423]),\n",
       " 'K.RIEAIPQIDK.Y': array([11.7301913 ,  1.61897859]),\n",
       " 'K.SADFTNFDPR.G': array([13.77497522,  1.26759182]),\n",
       " 'K.SASDLTWDNLK.G': array([14.19133676,  1.20431349]),\n",
       " 'K.SAVTALWGK.V': array([13.10967229,  1.37502946]),\n",
       " 'K.SDNC(+57.02)EDTPEAGYFAVAVVK.K': array([10.12337959,  1.96660634]),\n",
       " 'K.SHC(+57.02)IAEVENDEM(+15.99)PADLPSLAADFVESK.D': array([12.01968086,  1.73844579]),\n",
       " 'K.SNFLNC(+57.02)YVSGFHPSDIEVDLLK.N': array([14.27652891,  0.92282199]),\n",
       " 'K.SQQSSDPDPNC(+57.02)VDRPVEGYLAVAVVR.R': array([12.87946213,  1.1216541 ]),\n",
       " 'K.STPTAEDVTAPLVDEGAPGK.Q': array([14.27591271,  1.23574703]),\n",
       " 'K.TAFQEALDAAGDK.L': array([15.03006679,  1.12666508]),\n",
       " 'K.TGAQELLR.V': array([12.45448205,  1.44374332]),\n",
       " 'K.TGQAPGYSYTAANK.N': array([13.35107668,  1.27451463]),\n",
       " 'K.TITLEVEPSDTIENVK.A': array([14.31184101,  1.02401827]),\n",
       " 'K.TKENVVQSVTSVAEK.T': array([10.02004705,  2.04909822]),\n",
       " 'K.TPGAVNAC(+57.02)HLSC(+57.02)SALLQDNIADAVAC(+57.02)AK.R': array([13.65379246,  1.17151663]),\n",
       " 'K.TPSAAYLWVGTGASEAEK.T': array([14.57364018,  0.85811826]),\n",
       " 'K.TVEEAENIAVTSGVVR.K': array([13.67456596,  1.28381677]),\n",
       " 'K.VEADIPGHGQEVLIR.L': array([14.84882749,  1.21520131]),\n",
       " 'K.VFDEFKPLVEEPQNLIK.Q': array([15.6492309 ,  0.99190953]),\n",
       " 'K.VFDVIIR.C': array([14.56939484,  1.01603627]),\n",
       " 'K.VLAPQISFAPEIASEEER.K': array([10.56907951,  1.73141607]),\n",
       " 'K.VLAPQISFAPEIASEEERK.G': array([15.03167515,  1.12858478]),\n",
       " 'K.VLDALQAIK.T': array([15.23692512,  1.06485871]),\n",
       " 'K.VLGAFSDGLAHLDNLK.G': array([15.00320344,  0.83011706]),\n",
       " 'K.VLTLELYK.K': array([14.61476564,  1.08061877]),\n",
       " 'K.VNLLSAIK.S': array([14.38483136,  1.16820897]),\n",
       " 'K.VNVDEVGGEALGR.L': array([13.54632447,  1.27191104]),\n",
       " 'K.VSWEEVK.N': array([12.92276322,  1.43749125]),\n",
       " 'K.VTGLDFIPGLHPILTLSK.M': array([15.39337532,  0.82358155]),\n",
       " 'K.VVDVLDSIK.T': array([14.452903  ,  1.13636832]),\n",
       " 'K.WDGQETTLVR.E': array([10.93292806,  2.24076534]),\n",
       " 'K.WSALYDVR.T': array([14.02584447,  1.190242  ]),\n",
       " 'K.WVGTIHGAAGTVYEDLR.Y': array([13.46182299,  1.14989631]),\n",
       " 'K.YAC(+57.02)NC(+57.02)VVGYIGER.C': array([14.18944606,  1.1562536 ]),\n",
       " 'K.YDPSLKPLSVSYDQATSLR.I': array([19.21776291,  0.4485579 ]),\n",
       " 'K.YIAWPLQ(+.98)GWQATFGGGDHPPK.S': array([12.68024545,  0.63406343]),\n",
       " 'K.YIAWPLQGWQATFGGGDHPPK.S': array([14.43343302,  0.83500099]),\n",
       " 'K.YIC(+57.02)ENQDSISSK.L': array([14.21290921,  1.16149454]),\n",
       " 'K.YLGPQYVAGITNLK.K': array([14.42076497,  1.14592733]),\n",
       " 'K.YWGVASFLQK.G': array([16.8280488 ,  0.48856709]),\n",
       " 'R.ADLIAYLK.K': array([13.82168208,  1.1243375 ]),\n",
       " 'R.AFYVNVLNEEQR.K': array([15.27751856,  0.6198796 ]),\n",
       " 'R.AILNYIASK.Y': array([14.31002057,  1.18240172]),\n",
       " 'R.ANALLAN(+.98)GVELR.D': array([13.31801665,  1.34745061]),\n",
       " 'R.AQPVQVAEGSEPDGFWEALGGK.A': array([15.25834935,  1.03830586]),\n",
       " 'R.C(+57.02)LAENAGDVAFVK.D': array([13.56662873,  1.24267372]),\n",
       " 'R.DGAGDVAFIR.E': array([14.08047994,  1.27305337]),\n",
       " 'R.DLLDDLK.S': array([14.06694041,  1.20434987]),\n",
       " 'R.DNQLVVPSEGLYLIYSQVLFK.G': array([10.71181676,  1.56536506]),\n",
       " 'R.DPILFPSFIHSQK.R': array([11.29371794,  1.60973815]),\n",
       " 'R.DVFHTTVNFINQNLR.T': array([12.95898737,  0.8423393 ]),\n",
       " 'R.EGTC(+57.02)PEAPTDEC(+57.02)KPVK.W': array([14.92189671,  1.09570553]),\n",
       " 'R.ELDALGHELPVLAPQWEGYDELQTDGNR.S': array([13.98242363,  1.06020341]),\n",
       " 'R.EQAGGDATENFEDVGHSTDAR.E': array([14.04677033,  1.13029194]),\n",
       " 'R.ESTVFEDLSDEAERDEYELLC(+57.02)PDNTR.K': array([14.6000136 ,  0.99705025]),\n",
       " 'R.ETPEGAEAKPWYEPIYLGGVFQLEK.G': array([12.46459051,  1.26693616]),\n",
       " 'R.EVPLNTIIFM(+15.99)GR.V': array([14.5811883 ,  1.04120172]),\n",
       " 'R.EVQGFESATFLGYFK.S': array([14.52165221,  0.64198958]),\n",
       " 'R.FATTFYQHLADSK.N': array([11.26361603,  1.49571452]),\n",
       " 'R.FDEFFSEGC(+57.02)APGSK.K': array([14.76435773,  1.07262824]),\n",
       " 'R.FFESFGDLSTPDAVM(+15.99)GNPK.V': array([12.76199073,  1.33776927]),\n",
       " 'R.FFSASC(+57.02)VPGADKGQFPNLC(+57.02)R.L': array([15.20014186,  0.97255382]),\n",
       " 'R.GIVEEC(+57.02)C(+57.02)FR.S': array([14.09382555,  1.27664275]),\n",
       " 'R.GLFIIDDK.G': array([14.18004676,  1.1627303 ]),\n",
       " 'R.GTVTDFPGFDER.A': array([14.45662726,  1.12368991]),\n",
       " 'R.GYSIFSYATK.R': array([12.93412604,  1.16241179]),\n",
       " 'R.HLSNVSSTGSIDM(+15.99)VDSPQLATLADEVSASLAK.Q': array([6.55003072, 3.02631372]),\n",
       " 'R.IDSGLYLGSGYFTAIQNLR.K': array([14.02115165,  0.93718516]),\n",
       " 'R.IEADSESQEDIIR.N': array([13.46316737,  1.1783199 ]),\n",
       " 'R.IFSIVEQR.L': array([14.51581845,  1.18803584]),\n",
       " 'R.IIPGFM(+15.99)C(+57.02)QGGDFTR.H': array([13.39811349,  1.39679163]),\n",
       " 'R.IIPGFMC(+57.02)QGGDFTR.H': array([12.54374395,  1.24634587]),\n",
       " 'R.ILDGM(+15.99)FAIC(+57.02)GVSDSK.F': array([10.44090527,  1.84766721]),\n",
       " 'R.ILDGMFAIC(+57.02)GVSDSK.F': array([10.03429533,  1.61262911]),\n",
       " 'R.ILNNGHAFNVEFDDSQDK.A': array([8.96757431, 2.30743588]),\n",
       " 'R.LGPNYLHIPVNC(+57.02)PYR.A': array([16.18439424,  0.7754706 ]),\n",
       " 'R.LIVHNGYC(+57.02)DGR.S': array([11.81436557,  1.26361228]),\n",
       " 'R.LLLEYLEEK.Y': array([14.58480856,  1.1272423 ]),\n",
       " 'R.LLNLDGTC(+57.02)ADSYSFVFSR.D': array([8.60449935, 2.47137729]),\n",
       " 'R.LLNNWDVC(+57.02)ADM(+15.99)VGTFTDTEDPAK.F': array([10.42069338,  1.88925403]),\n",
       " 'R.LQGSLQDMLWQLDLSPGC(+57.02)': array([10.62866223,  1.34262448]),\n",
       " 'R.LSQEDPDYGIR.D': array([13.92493419,  1.21667731]),\n",
       " 'R.LSQEDPDYGIRDLFNAIATGK.Y': array([9.83823834, 1.51645061]),\n",
       " 'R.LVQAFQFTDK.H': array([15.98483008,  0.82533456]),\n",
       " 'R.NIC(+57.02)DISC(+57.02)DKFLDDDITDDIM(+15.99)C(+57.02)AK.K': array([14.32398395,  1.09387476]),\n",
       " 'R.NLREGTC(+57.02)PEAPTDEC(+57.02)KPVK.W': array([10.68709853,  1.69774813]),\n",
       " 'R.NPVNYFAEVEQIAFDPSNM(+15.99)PPGIEASPDK.M': array([14.65429552,  0.61395605]),\n",
       " 'R.NVIQISNDLENLR.D': array([14.44821157,  1.20735611]),\n",
       " 'R.QGVEDAFYTLVR.E': array([12.84731999,  1.30285816]),\n",
       " 'R.QITVNDLPVGR.S': array([14.65040098,  1.16780793]),\n",
       " 'R.QRQEELC(+57.02)LAR.Q': array([13.89381819,  0.41357523]),\n",
       " 'R.QSPVDIDTHTAK.Y': array([11.14640043,  1.64678172]),\n",
       " 'R.RFNTANDDNVTQVR.A': array([13.65003322,  0.89484253]),\n",
       " 'R.SAGWNIPIGLLYC(+57.02)DLPEPR.K': array([15.24353729,  0.82744148]),\n",
       " 'R.SC(+57.02)DLALLETYC(+57.02)ATPAK.S': array([14.85653998,  1.16305975]),\n",
       " 'R.SC(+57.02)HLAM(+15.99)APNHAVVSR.M': array([12.08661914,  1.1779165 ]),\n",
       " 'R.SEIDLFNIR.K': array([13.49888354,  1.17786731]),\n",
       " 'R.SGYSSPGSPGTPGSR.S': array([13.83349541,  1.14880577]),\n",
       " 'R.SIPAYLAETLYYAM(+15.99)K.G': array([12.1840491 ,  1.49380718]),\n",
       " 'R.SLASDITDEQK.K': array([14.18182933,  1.20418981]),\n",
       " 'R.SLLSNVEGDNAVPM(+15.99)QHNNRPTQPLK.G': array([12.36055304,  1.61057669]),\n",
       " 'R.SNLC(+57.02)ALC(+57.02)IGDEQGENK.C': array([14.27434526,  1.17634727]),\n",
       " 'R.STDYGIFQINSR.Y': array([14.10300416,  1.14851787]),\n",
       " 'R.SVQWC(+57.02)AVSQPEATK.C': array([13.44168537,  1.29210054]),\n",
       " 'R.SYGIPYIETSAK.T': array([12.54374873,  1.7386122 ]),\n",
       " 'R.TAGWNIPM(+15.99)GLLYNK.I': array([11.48201666,  1.73159612]),\n",
       " 'R.TAGWNIPMGLLYNK.I': array([9.94531395, 1.94811928]),\n",
       " 'R.TGEGFLC(+57.02)VFAINNTK.S': array([12.43997114,  1.28831052]),\n",
       " 'R.TPSLPTPPTREPK.K': array([8.42934228, 3.01807936]),\n",
       " 'R.TPSLPTPPTREPKK.V': array([14.18883768, -0.10522621]),\n",
       " 'R.TTETQVLVASAQK.K': array([13.67200984,  1.26469997]),\n",
       " 'R.VAEGTQVLELPFK.G': array([13.75801527,  1.24693856]),\n",
       " 'R.VHVSEEGTEPEAM(+15.99)LQ(+.98)VLGPKPALPAGTEDTAK.E': array([12.02392355,  1.06003953]),\n",
       " 'R.VIESGPHC(+57.02)ANTEIIVK.L': array([14.25007778,  1.15579212]),\n",
       " 'R.VLC(+57.02)QGFAFDIPGFYDSGLLQGK.L': array([9.23291062, 2.21323346]),\n",
       " 'R.VPFDAATLHTSTAM(+15.99)AAQHGM(+15.99)DDDGTGQK.Q': array([4.69953698, 4.12960272]),\n",
       " 'R.VSFELFADK.V': array([11.75698716,  1.2932305 ]),\n",
       " 'R.VVWC(+57.02)AVGEQELR.K': array([10.93342158,  1.76176824]),\n",
       " 'R.VVWC(+57.02)AVGEQELRK.C': array([12.43132884,  1.22967993]),\n",
       " 'R.YDGLVGM(+15.99)FDPK.G': array([10.38774063,  2.43298506]),\n",
       " 'V(+42.01)DAFLGTWK.L': array([15.35725042,  1.05734602])}"
      ]
     },
     "execution_count": 12,
     "metadata": {},
     "output_type": "execute_result"
    }
   ],
   "source": [
    "testing_peptides_km_map"
   ]
  },
  {
   "cell_type": "markdown",
   "metadata": {},
   "source": [
    "## each rep develop a model predict on Giai 25 fmol and evaluate"
   ]
  },
  {
   "cell_type": "code",
   "execution_count": 13,
   "metadata": {},
   "outputs": [
    {
     "data": {
      "text/plain": [
       "['K.LVNANGEAVYC(+57.02)K.F',\n",
       " 'K.ALPGQLKPFETLLSQNQGGK.T',\n",
       " 'K.EGHLSPDIVAEQK.K',\n",
       " 'R.FATTFYQHLADSK.N',\n",
       " 'K.ATAVM(+15.99)PDGQFK.D',\n",
       " 'K.YDPSLKPLSVSYDQATSLR.I',\n",
       " 'R.TTETQVLVASAQK.K',\n",
       " 'K.VLAPQISFAPEIASEEER.K',\n",
       " 'R.QGVEDAFYTLVR.E',\n",
       " 'R.ILNNGHAFNVEFDDSQDK.A',\n",
       " 'K.QTALVELVK.H',\n",
       " 'R.EQAGGDATENFEDVGHSTDAR.E',\n",
       " 'R.ANALLAN(+.98)GVELR.D',\n",
       " 'R.LVQAFQFTDK.H',\n",
       " 'K.FDEYFSQSC(+57.02)APGSDPR.S',\n",
       " 'K.M(+15.99)YLGYEYVTAIR.N',\n",
       " 'K.TPSAAYLWVGTGASEAEK.T',\n",
       " 'K.FC(+57.02)LFQSETK.N',\n",
       " 'K.GGDDLDPNYVLSSR.V',\n",
       " 'R.TAGWNIPM(+15.99)GLLYNK.I',\n",
       " 'K.LVAASQAALGL',\n",
       " 'R.DGAGDVAFIR.E',\n",
       " 'R.FFESFGDLSTPDAVM(+15.99)GNPK.V',\n",
       " 'K.LNFN(+.98)GEGEPEELM(+15.99)VDNWRPAQPLK.N',\n",
       " 'R.LIVHNGYC(+57.02)DGR.S',\n",
       " 'K.VNVDEVGGEALGR.L',\n",
       " 'K.ITIADC(+57.02)GQLE',\n",
       " 'K.LRPVAAEVYGTER.Q',\n",
       " 'K.EDLRPSAPQQEGEASKEKEEVAEEAQSGGD',\n",
       " 'R.VVWC(+57.02)AVGEQELRK.C',\n",
       " 'K.EDAIWNLLR.Q',\n",
       " 'R.VVWC(+57.02)AVGEQELR.K',\n",
       " 'K.DYELLC(+57.02)LDGTR.K',\n",
       " 'R.TPSLPTPPTREPK.K',\n",
       " 'R.TPSLPTPPTREPKK.V',\n",
       " 'K.GDGPVQGIINFEQK.E',\n",
       " 'K.TVEEAENIAVTSGVVR.K',\n",
       " 'R.ESTVFEDLSDEAERDEYELLC(+57.02)PDNTR.K',\n",
       " 'K.LYPIANGNNQSPVDIK.T',\n",
       " 'K.SDNC(+57.02)EDTPEAGYFAVAVVK.K',\n",
       " 'R.LQGSLQDMLWQLDLSPGC(+57.02)',\n",
       " 'R.YDGLVGM(+15.99)FDPK.G',\n",
       " 'R.FFSASC(+57.02)VPGADKGQFPNLC(+57.02)R.L',\n",
       " 'K.GEADAM(+15.99)SLDGGYVYTAGK.C',\n",
       " 'R.LSQEDPDYGIR.D',\n",
       " 'K.NFATSLYSMIK.G',\n",
       " 'K.GLAPEVADR.I',\n",
       " 'R.SYGIPYIETSAK.T',\n",
       " 'K.FQDGDLTLYQSNTILR.H',\n",
       " 'K.VEADIPGHGQEVLIR.L',\n",
       " 'R.VHVSEEGTEPEAM(+15.99)LQ(+.98)VLGPKPALPAGTEDTAK.E',\n",
       " 'R.IIPGFMC(+57.02)QGGDFTR.H',\n",
       " 'K.TKENVVQSVTSVAEK.T',\n",
       " 'K.LNVITVGPR.G',\n",
       " 'K.NLSVEDAAR.L',\n",
       " 'K.SHC(+57.02)IAEVENDEM(+15.99)PADLPSLAADFVESK.D',\n",
       " 'K.VLDALQAIK.T',\n",
       " 'K.AGALNSNDAFVLK.T',\n",
       " 'K.EQANAVSEAVVSSVNTVATK.T',\n",
       " 'R.SC(+57.02)HLAM(+15.99)APNHAVVSR.M',\n",
       " 'K.FLEEHPGGEEVLR.E',\n",
       " 'K.STPTAEDVTAPLVDEGAPGK.Q',\n",
       " 'R.AILNYIASK.Y',\n",
       " 'K.SAVTALWGK.V',\n",
       " 'K.LGVEFDETTADDR.K',\n",
       " 'K.DVTVLQNTDGNNNEAWAK.D',\n",
       " 'K.ELADITLDPPPNC(+57.02)SAGPK.G',\n",
       " 'K.LYPIAN(+.98)GNNQSPVDIK.T',\n",
       " 'K.DC(+57.02)HLAQVPSHTVVAR.S',\n",
       " 'K.EDLRPSAPQQEGEASK.E',\n",
       " 'R.DNQLVVPSEGLYLIYSQVLFK.G',\n",
       " 'K.GTPWEGGLFK.L',\n",
       " 'K.EFTPPVQAAYQK.V',\n",
       " 'R.VSFELFADK.V',\n",
       " 'R.ELDALGHELPVLAPQWEGYDELQTDGNR.S',\n",
       " 'K.TAFQEALDAAGDK.L',\n",
       " 'R.VPFDAATLHTSTAM(+15.99)AAQHGM(+15.99)DDDGTGQK.Q',\n",
       " 'R.IIPGFM(+15.99)C(+57.02)QGGDFTR.H',\n",
       " 'K.LNPPDESGPGC(+57.02)M(+15.99)SC(+57.02)K.C',\n",
       " 'K.HSTIFENLANK.A',\n",
       " 'K.YIAWPLQGWQATFGGGDHPPK.S',\n",
       " 'K.GQSIDDM(+15.99)IPAQK',\n",
       " 'K.ADGLAVIGVLM(+15.99)K.V',\n",
       " 'K.QGGLGPM(+15.99)NIPLVSDPK.R',\n",
       " 'K.WSALYDVR.T',\n",
       " 'R.QSPVDIDTHTAK.Y',\n",
       " 'R.QITVNDLPVGR.S',\n",
       " 'K.AVQQPDGLAVLGIFLK.V',\n",
       " 'R.QRQEELC(+57.02)LAR.Q',\n",
       " 'K.LKDPANFQYPAESVLAYK.E',\n",
       " 'R.TGEGFLC(+57.02)VFAINNTK.S',\n",
       " 'K.TITLEVEPSDTIENVK.A',\n",
       " 'R.LSQEDPDYGIRDLFNAIATGK.Y',\n",
       " 'K.ASAELIEEEVAK.L',\n",
       " 'R.LLNNWDVC(+57.02)ADM(+15.99)VGTFTDTEDPAK.F',\n",
       " 'K.ASYLDC(+57.02)IR.A',\n",
       " 'C.FSALEVDETYVPK.E',\n",
       " 'R.VLC(+57.02)QGFAFDIPGFYDSGLLQGK.L',\n",
       " 'K.DQGGELLSLR.Y',\n",
       " 'R.FDEFFSEGC(+57.02)APGSK.K',\n",
       " 'R.STDYGIFQINSR.Y',\n",
       " 'K.ANRPFLVFIR.E',\n",
       " 'K.DNWSPALTISK.V',\n",
       " 'K.LEQWLC(+57.02)EKL',\n",
       " 'K.NVAVDELSR.Q',\n",
       " 'K.VLAPQISFAPEIASEEERK.G',\n",
       " 'R.SEIDLFNIR.K',\n",
       " 'K.NLLFNDNTEC(+57.02)LAR.L',\n",
       " 'R.DVFHTTVNFINQNLR.T',\n",
       " 'K.LADFALLC(+57.02)LDGK.R',\n",
       " 'R.SNLC(+57.02)ALC(+57.02)IGDEQGENK.C',\n",
       " 'K.C(+57.02)ETVAAARPVT',\n",
       " 'R.GYSIFSYATK.R',\n",
       " 'K.ALLLLC(+57.02)GEDD',\n",
       " 'K.NDNDNIFLSPLSISTAFAMTK.L',\n",
       " 'K.GLGTDEESILTLLTSR.S',\n",
       " 'K.HDTSLKPISVSYNPATAK.E',\n",
       " 'R.SGYSSPGSPGTPGSR.S',\n",
       " 'R.ADLIAYLK.K',\n",
       " 'K.SADFTNFDPR.G',\n",
       " 'K.HTGPGILSM(+15.99)ANAGPNTNGSQ(+.98)FFIC(+57.02)TAK.T',\n",
       " 'K.WDGQETTLVR.E',\n",
       " 'K.HTGPGILSM(+15.99)ANAGPNTN(+.98)GSQFFIC(+57.02)TAK.T',\n",
       " 'R.NLREGTC(+57.02)PEAPTDEC(+57.02)KPVK.W',\n",
       " 'K.DQGGYTM(+15.99)HQDQEGDTDAGLK.E',\n",
       " 'K.AVMDDFAAFVEK.C',\n",
       " 'K.YAC(+57.02)NC(+57.02)VVGYIGER.C',\n",
       " 'K.AFLASPEYVNLPIN(+.98)GN(+.98)GKQ',\n",
       " 'K.DGAGDVAFVK.H',\n",
       " 'K.VLGAFSDGLAHLDNLK.G',\n",
       " 'R.EVQGFESATFLGYFK.S',\n",
       " 'K.EDLRPSAPQQEGEASKEK.E',\n",
       " 'K.EIEIDIEPTDK.V',\n",
       " 'K.WVGTIHGAAGTVYEDLR.Y',\n",
       " 'R.LLLEYLEEK.Y',\n",
       " 'K.AAFTEC(+57.02)C(+57.02)QAADK.A',\n",
       " 'K.GAEPSGGAARGPVGK.R',\n",
       " 'R.LLNLDGTC(+57.02)ADSYSFVFSR.D',\n",
       " 'K.IGSLDNITHVPGGGNK.K',\n",
       " 'R.RFNTANDDNVTQVR.A',\n",
       " 'R.SLLSNVEGDNAVPM(+15.99)QHNNRPTQPLK.G',\n",
       " 'A(+42.01)DSRDPASDQM(+15.99)QHWK.E',\n",
       " 'K.TGAQELLR.V',\n",
       " 'R.GLFIIDDK.G',\n",
       " 'R.C(+57.02)LAENAGDVAFVK.D',\n",
       " 'K.TPGAVNAC(+57.02)HLSC(+57.02)SALLQDNIADAVAC(+57.02)AK.R',\n",
       " 'R.ETPEGAEAKPWYEPIYLGGVFQLEK.G',\n",
       " 'R.EGTC(+57.02)PEAPTDEC(+57.02)KPVK.W',\n",
       " 'R.LGPNYLHIPVNC(+57.02)PYR.A',\n",
       " 'K.HVVPNEVVVQR.L',\n",
       " 'K.YIAWPLQ(+.98)GWQATFGGGDHPPK.S',\n",
       " 'K.NDNDNIFLSPLSISTAFAM(+15.99)TK.L',\n",
       " 'K.LLFEYLTLFGIDDK.I',\n",
       " 'K.C(+57.02)STSSLLEAC(+57.02)TFR.R',\n",
       " 'K.ELFDPIISDR.H',\n",
       " 'K.YWGVASFLQK.G',\n",
       " 'R.GIVEEC(+57.02)C(+57.02)FR.S',\n",
       " 'K.LC(+57.02)M(+15.99)GSGLNLC(+57.02)EPNNK.E',\n",
       " 'K.YLGPQYVAGITNLK.K',\n",
       " 'K.VVDVLDSIK.T',\n",
       " 'K.GIIWGEDTLM(+15.99)EYLENPK.K',\n",
       " 'R.SAGWNIPIGLLYC(+57.02)DLPEPR.K',\n",
       " 'R.HLSNVSSTGSIDM(+15.99)VDSPQLATLADEVSASLAK.Q',\n",
       " 'K.HQTVPQNTGGKNPDPWAK.N',\n",
       " 'K.HGEVC(+57.02)PAGWKPGSDTIKPDVQK.S',\n",
       " 'K.VTGLDFIPGLHPILTLSK.M',\n",
       " 'K.SQQSSDPDPNC(+57.02)VDRPVEGYLAVAVVR.R',\n",
       " 'K.EDLIWELLNQAQEHFGK.D',\n",
       " 'K.C(+57.02)ELSQLLK.D',\n",
       " 'K.EQLQDM(+15.99)GLVDLFSPEK.S',\n",
       " 'R.EVPLNTIIFM(+15.99)GR.V',\n",
       " 'R.NVIQISNDLENLR.D',\n",
       " 'K.QTQVSVLPEGGETPLFK.Q',\n",
       " 'K.DLLFRDDTVC(+57.02)LAK.L',\n",
       " 'R.DLLDDLK.S',\n",
       " 'K.LALLSVTTGGTAEM(+15.99)YTK.T',\n",
       " 'K.LVNEVTEFAK.T',\n",
       " 'K.VSWEEVK.N',\n",
       " 'K.EGYYGYTGAFR.C',\n",
       " 'K.EDPQTFYYAVAVVK.K',\n",
       " 'K.LTNYSVTDLNVQR.K',\n",
       " 'K.RIEAIPQIDK.Y',\n",
       " 'K.ENVVQSVTSVAEK.T',\n",
       " 'K.ATEDEGSEQKIPEATNR.R',\n",
       " 'A(+42.01)SPDWGYDDKNGPEQWSK.L',\n",
       " 'R.VAEGTQVLELPFK.G',\n",
       " 'R.NIC(+57.02)DISC(+57.02)DKFLDDDITDDIM(+15.99)C(+57.02)AK.K',\n",
       " 'K.VFDVIIR.C',\n",
       " 'K.SNFLNC(+57.02)YVSGFHPSDIEVDLLK.N',\n",
       " 'K.ADRDQYELLC(+57.02)LDNTR.K',\n",
       " 'R.GTVTDFPGFDER.A',\n",
       " 'K.GISAFPESDNLFK.W',\n",
       " 'K.ADVLTTGAGNPVGDK.L',\n",
       " 'K.SASDLTWDNLK.G',\n",
       " 'K.LVSELWDAGIK.A',\n",
       " 'V(+42.01)DAFLGTWK.L',\n",
       " 'K.QNC(+57.02)ELFEQLGEYK.F',\n",
       " 'K.LSVEALNSLTGEFK.G',\n",
       " 'R.SIPAYLAETLYYAM(+15.99)K.G',\n",
       " 'R.VIESGPHC(+57.02)ANTEIIVK.L',\n",
       " 'K.C(+57.02)STSPLLEAC(+57.02)EFLR.K',\n",
       " 'R.DPILFPSFIHSQK.R',\n",
       " 'K.LEATINELV',\n",
       " 'HGSPVDIC(+57.02)TAKPR.D',\n",
       " 'R.TAGWNIPMGLLYNK.I',\n",
       " 'R.ILDGMFAIC(+57.02)GVSDSK.F',\n",
       " 'K.N(+.98)GDILTLK.T',\n",
       " 'R.IEADSESQEDIIR.N',\n",
       " 'K.GGSFQLNELQGLK.S',\n",
       " 'R.SC(+57.02)DLALLETYC(+57.02)ATPAK.S',\n",
       " 'K.QTQ(+.98)VSVLPEGGETPLFK.Q',\n",
       " 'K.TGQAPGYSYTAANK.N',\n",
       " 'K.GDNIYEWR.S',\n",
       " 'R.AQPVQVAEGSEPDGFWEALGGK.A',\n",
       " 'R.NPVNYFAEVEQIAFDPSNM(+15.99)PPGIEASPDK.M',\n",
       " 'K.VLTLELYK.K',\n",
       " 'K.MYLGYEYVTAIR.N',\n",
       " 'K.FITIFGTR.S',\n",
       " 'K.VFDEFKPLVEEPQNLIK.Q',\n",
       " 'K.YIC(+57.02)ENQDSISSK.L',\n",
       " 'K.EQLQDMGLVDLFSPEK.S',\n",
       " 'K.QVYEEEYGSSLEDDVVGDTSGYYQR.M',\n",
       " 'K.C(+57.02)AFSSQEPYFSYSGAFK.C',\n",
       " 'K.LSLEFPSGYPYNAPTVK.F',\n",
       " 'K.RDSPIQC(+57.02)IQAIAENR.A',\n",
       " 'R.IFSIVEQR.L',\n",
       " 'K.LNFNGEGEPEELM(+15.99)VDNWRPAQPLK.N',\n",
       " 'R.AFYVNVLNEEQR.K',\n",
       " 'K.NFATSLYSM(+15.99)IK.G',\n",
       " 'K.VNLLSAIK.S',\n",
       " 'K.LDLSNVQSK.C',\n",
       " 'K.LEQWLC(+57.02)EK.L',\n",
       " 'K.C(+57.02)DEWSVNSVGK.I',\n",
       " 'K.IEC(+57.02)VSAETTEDC(+57.02)IAK.I',\n",
       " 'K.AVM(+15.99)DDFAAFVEK.C',\n",
       " 'R.IDSGLYLGSGYFTAIQNLR.K',\n",
       " 'R.ILDGM(+15.99)FAIC(+57.02)GVSDSK.F',\n",
       " 'R.SLASDITDEQK.K',\n",
       " 'R.SVQWC(+57.02)AVSQPEATK.C']"
      ]
     },
     "execution_count": 13,
     "metadata": {},
     "output_type": "execute_result"
    }
   ],
   "source": [
    "test_peptide_list"
   ]
  },
  {
   "cell_type": "code",
   "execution_count": 14,
   "metadata": {
    "collapsed": true
   },
   "outputs": [],
   "source": [
    "def lm_on_one_replication(df, anchor_peptide_list, test_peptide_list, test_peptide_km_map, fit_intercept=False):\n",
    "    \"\"\"\n",
    "    use peptides in anchor_peptide_list to build lm model, predict on peptides in common_peptides_for_prediction_list\n",
    "    returns y and y_hat\n",
    "    \"\"\"\n",
    "    lm_x = []\n",
    "    lm_y = []\n",
    "    pred_x = []\n",
    "    y_ = []\n",
    "    for row in df.iterrows():\n",
    "        peptide = row[1]['Peptide']\n",
    "        if peptide in anchor_peptide_list:\n",
    "            lm_x.append(anchor_peptide_params_dict[peptide])\n",
    "            lm_y.append(row[1][\"Intensity\"])\n",
    "        elif peptide in test_peptide_list:\n",
    "            pred_x.append(test_peptide_km_map[peptide])\n",
    "            y_.append(row[1][\"Intensity\"])\n",
    "    lm = LinearRegression(fit_intercept=fit_intercept)\n",
    "    lm_x = np.asarray(lm_x)\n",
    "    lm_y = np.asarray(lm_y).reshape(-1, 1)\n",
    "    print(f\"regression on {len(lm_x)} peptides\")\n",
    "    lm.fit(lm_x, np.log(lm_y))\n",
    "    \n",
    "    y_hat = lm.predict(np.asarray(pred_x)).flatten()\n",
    "    y_hat = np.exp(y_hat)\n",
    "    y_ = np.asarray(y_)\n",
    "    return y_, y_hat"
   ]
  },
  {
   "cell_type": "code",
   "execution_count": 15,
   "metadata": {},
   "outputs": [
    {
     "name": "stdout",
     "output_type": "stream",
     "text": [
      "regression on 34 peptides\n",
      "regression on 34 peptides\n",
      "regression on 34 peptides\n"
     ]
    }
   ],
   "source": [
    "y_ = []\n",
    "y_hat = []\n",
    "for rep in range(3):\n",
    "    rep_y, rep_y_hat = lm_on_one_replication(df_lists[TEST_FRAC][rep], anchor_peptide_list, \\\n",
    "                          test_peptide_list, testing_peptides_km_map, LM_FIT_INTERCEPT)\n",
    "    y_.append(rep_y)\n",
    "    y_hat.append(rep_y_hat)\n",
    "y_ = np.concatenate(y_)\n",
    "y_hat = np.concatenate(y_hat)\n",
    "assert len(y_hat) == len(y_) \n"
   ]
  },
  {
   "cell_type": "code",
   "execution_count": 16,
   "metadata": {
    "scrolled": false
   },
   "outputs": [
    {
     "data": {
      "text/plain": [
       "(0, 70000000.0)"
      ]
     },
     "execution_count": 16,
     "metadata": {},
     "output_type": "execute_result"
    },
    {
     "data": {
      "image/png": "[encoded data removed]",
      "text/plain": [
       "<matplotlib.figure.Figure at 0x7f82727739b0>"
      ]
     },
     "metadata": {},
     "output_type": "display_data"
    }
   ],
   "source": [
    "%matplotlib inline\n",
    "plt.figure(figsize=(20, 10))\n",
    "plt.title('34 anchor peptide linear model prediction')\n",
    "plt.scatter(y_, y_hat)\n",
    "plt.xlabel('true intensity')\n",
    "plt.ylabel('predicted intensity')\n",
    "plt.xlim((0, 7e7))\n",
    "plt.ylim((0, 7e7))"
   ]
  },
  {
   "cell_type": "code",
   "execution_count": 17,
   "metadata": {},
   "outputs": [
    {
     "name": "stdout",
     "output_type": "stream",
     "text": [
      "[0.12891762 0.17406528 0.25100007 0.38167475 0.51771851]\n"
     ]
    }
   ],
   "source": [
    "percentage_diff = (y_ - y_hat) / y_\n",
    "print(np.percentile(np.abs(percentage_diff), [50, 60, 70, 80, 90]))"
   ]
  },
  {
   "cell_type": "code",
   "execution_count": 18,
   "metadata": {},
   "outputs": [
    {
     "data": {
      "text/plain": [
       "<matplotlib.text.Text at 0x7f826e222b00>"
      ]
     },
     "execution_count": 18,
     "metadata": {},
     "output_type": "execute_result"
    },
    {
     "data": {
      "image/png": "[encoded data removed]",
      "text/plain": [
       "<matplotlib.figure.Figure at 0x7f82b0b02a20>"
      ]
     },
     "metadata": {},
     "output_type": "display_data"
    }
   ],
   "source": [
    "_,_,_ = plt.hist(percentage_diff, bins=np.arange(-2,1, 0.05))\n",
    "plt.title('percentage diff histogram')"
   ]
  },
  {
   "cell_type": "markdown",
   "metadata": {
    "collapsed": true
   },
   "source": [
    "# Experiment on Ramus Dataset"
   ]
  },
  {
   "cell_type": "code",
   "execution_count": 19,
   "metadata": {
    "collapsed": true
   },
   "outputs": [],
   "source": [
    "def get_concentration_df_list(file_name_list):\n",
    "    result = []\n",
    "    for file_name in file_name_list:\n",
    "        df = pd.read_csv(file_name)\n",
    "        df.columns = ['Unnamed', 'ProteinAccession', 'Peptide', 'Intensity']\n",
    "        result.append(df)\n",
    "    return result\n",
    "concentration_ramus_50_df_list = get_concentration_df_list(glob.glob('ramus2016/25000*.csv'))"
   ]
  },
  {
   "cell_type": "code",
   "execution_count": 20,
   "metadata": {},
   "outputs": [
    {
     "name": "stdout",
     "output_type": "stream",
     "text": [
      "regression on 24 peptides\n",
      "regression on 24 peptides\n",
      "regression on 24 peptides\n"
     ]
    }
   ],
   "source": [
    "y_ = []\n",
    "y_hat = []\n",
    "for rep in range(3):\n",
    "    rep_y, rep_y_hat = lm_on_one_replication(concentration_ramus_50_df_list[rep], anchor_peptide_list, \\\n",
    "                          test_peptide_list, testing_peptides_km_map, LM_FIT_INTERCEPT)\n",
    "    y_.append(rep_y)\n",
    "    y_hat.append(rep_y_hat)\n",
    "y_ = np.concatenate(y_)\n",
    "y_hat = np.concatenate(y_hat)\n",
    "assert len(y_hat) == len(y_) \n"
   ]
  },
  {
   "cell_type": "code",
   "execution_count": 21,
   "metadata": {},
   "outputs": [
    {
     "data": {
      "text/plain": [
       "(0, 50000000.0)"
      ]
     },
     "execution_count": 21,
     "metadata": {},
     "output_type": "execute_result"
    },
    {
     "data": {
      "image/png": "[encoded data removed]",
      "text/plain": [
       "<matplotlib.figure.Figure at 0x7f826e81e208>"
      ]
     },
     "metadata": {},
     "output_type": "display_data"
    }
   ],
   "source": [
    "%matplotlib inline\n",
    "plt.figure(figsize=(20, 10))\n",
    "plt.title('24 anchor peptide linear model prediction')\n",
    "plt.scatter(y_, y_hat)\n",
    "plt.xlabel('true intensity')\n",
    "plt.ylabel('predicted intensity')\n",
    "plt.xlim((0, 5e7))\n",
    "plt.ylim((0, 5e7))"
   ]
  },
  {
   "cell_type": "code",
   "execution_count": null,
   "metadata": {
    "collapsed": true
   },
   "outputs": [],
   "source": []
  }
 ],
 "metadata": {
  "kernelspec": {
   "display_name": "Python 3",
   "language": "python",
   "name": "python3"
  },
  "language_info": {
   "codemirror_mode": {
    "name": "ipython",
    "version": 3
   },
   "file_extension": ".py",
   "mimetype": "text/x-python",
   "name": "python",
   "nbconvert_exporter": "python",
   "pygments_lexer": "ipython3",
   "version": "3.6.5"
  }
 },
 "nbformat": 4,
 "nbformat_minor": 2
}
